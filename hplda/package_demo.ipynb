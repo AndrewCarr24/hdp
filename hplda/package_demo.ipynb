{
 "cells": [
  {
   "cell_type": "markdown",
   "metadata": {},
   "source": [
    "This project is available on PyPA as a Python package and can be installed via pip.  "
   ]
  },
  {
   "cell_type": "code",
   "execution_count": 1,
   "metadata": {},
   "outputs": [
    {
     "name": "stdout",
     "output_type": "stream",
     "text": [
      "Collecting hplda\n",
      "  Downloading hplda-0.3-py3-none-any.whl (2.6 kB)\n",
      "Installing collected packages: hplda\n",
      "  Attempting uninstall: hplda\n",
      "    Found existing installation: hplda 0.2\n",
      "    Uninstalling hplda-0.2:\n",
      "      Successfully uninstalled hplda-0.2\n",
      "Successfully installed hplda-0.3\n"
     ]
    }
   ],
   "source": [
    "!pip install hplda"
   ]
  },
  {
   "cell_type": "markdown",
   "metadata": {},
   "source": [
    "The package is called hplda."
   ]
  },
  {
   "cell_type": "code",
   "execution_count": 2,
   "metadata": {},
   "outputs": [
    {
     "name": "stderr",
     "output_type": "stream",
     "text": [
      "[nltk_data] Downloading package wordnet to\n",
      "[nltk_data]     /Users/andrewcarr/nltk_data...\n",
      "[nltk_data]   Package wordnet is already up-to-date!\n",
      "[nltk_data] Downloading package stopwords to\n",
      "[nltk_data]     /Users/andrewcarr/nltk_data...\n",
      "[nltk_data]   Package stopwords is already up-to-date!\n"
     ]
    }
   ],
   "source": [
    "# TODO - adjust data_preproc to hide these messages \n",
    "import hplda"
   ]
  },
  {
   "cell_type": "markdown",
   "metadata": {},
   "source": [
    "Enter csv URL or the location of a csv on your local system into the data_preproc function to produce two objects.  (MENTION REQUIRED FORMAT OF CSV) The first object is an array of every unique word in the corpus, excluding stop words and words that appear too frequently or infrequently across a set of documents in the corpus.  The second object is a list; each element of the list is a list of numbers that index the words in a given document.   "
   ]
  },
  {
   "cell_type": "code",
   "execution_count": 15,
   "metadata": {},
   "outputs": [],
   "source": [
    "# TODO - change init file so that data_proc function can be called without having to go through data_preproc module\n",
    "voca, docs = hplda.data_preproc.data_preproc(\"https://raw.githubusercontent.com/datadiarist/hierachical_dirichlet/master/tm_test_data.csv\")"
   ]
  },
  {
   "cell_type": "code",
   "execution_count": 19,
   "metadata": {},
   "outputs": [
    {
     "data": {
      "text/plain": [
       "622"
      ]
     },
     "execution_count": 19,
     "metadata": {},
     "output_type": "execute_result"
    }
   ],
   "source": [
    "len(docs)"
   ]
  },
  {
   "cell_type": "code",
   "execution_count": null,
   "metadata": {},
   "outputs": [],
   "source": []
  }
 ],
 "metadata": {
  "kernelspec": {
   "display_name": "Python 3",
   "language": "python",
   "name": "python3"
  },
  "language_info": {
   "codemirror_mode": {
    "name": "ipython",
    "version": 3
   },
   "file_extension": ".py",
   "mimetype": "text/x-python",
   "name": "python",
   "nbconvert_exporter": "python",
   "pygments_lexer": "ipython3",
   "version": "3.7.3"
  }
 },
 "nbformat": 4,
 "nbformat_minor": 2
}
