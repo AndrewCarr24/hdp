{
 "cells": [
  {
   "cell_type": "code",
   "execution_count": 4,
   "metadata": {},
   "outputs": [
    {
     "name": "stdout",
     "output_type": "stream",
     "text": [
      "Collecting hplda\n",
      "  Downloading hplda-0.2.tar.gz (905 bytes)\n",
      "Building wheels for collected packages: hplda\n",
      "  Building wheel for hplda (setup.py) ... \u001b[?25ldone\n",
      "\u001b[?25h  Created wheel for hplda: filename=hplda-0.2-py3-none-any.whl size=1237 sha256=77fdec7a3a9b69004c63831b932aea762121b6635afc673411aaf5416a054935\n",
      "  Stored in directory: /Users/andrewcarr/Library/Caches/pip/wheels/b4/82/d7/479b65764086b96604874203dd46c017a1bf91532ce3038f93\n",
      "Successfully built hplda\n",
      "Installing collected packages: hplda\n",
      "  Attempting uninstall: hplda\n",
      "    Found existing installation: hplda 0.1\n",
      "    Uninstalling hplda-0.1:\n",
      "      Successfully uninstalled hplda-0.1\n",
      "Successfully installed hplda-0.2\n"
     ]
    }
   ],
   "source": [
    "!pip install --upgrade hplda"
   ]
  },
  {
   "cell_type": "code",
   "execution_count": 7,
   "metadata": {},
   "outputs": [],
   "source": [
    "import hplda"
   ]
  },
  {
   "cell_type": "code",
   "execution_count": 8,
   "metadata": {},
   "outputs": [
    {
     "name": "stdout",
     "output_type": "stream",
     "text": [
      "This is an LDA package\n"
     ]
    }
   ],
   "source": [
    "hplda.lda()"
   ]
  },
  {
   "cell_type": "code",
   "execution_count": null,
   "metadata": {},
   "outputs": [],
   "source": []
  }
 ],
 "metadata": {
  "kernelspec": {
   "display_name": "Python 3",
   "language": "python",
   "name": "python3"
  },
  "language_info": {
   "codemirror_mode": {
    "name": "ipython",
    "version": 3
   },
   "file_extension": ".py",
   "mimetype": "text/x-python",
   "name": "python",
   "nbconvert_exporter": "python",
   "pygments_lexer": "ipython3",
   "version": "3.7.3"
  }
 },
 "nbformat": 4,
 "nbformat_minor": 2
}
